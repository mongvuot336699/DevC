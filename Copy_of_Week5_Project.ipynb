{
  "nbformat": 4,
  "nbformat_minor": 0,
  "metadata": {
    "kernelspec": {
      "display_name": "Python 3",
      "language": "python",
      "name": "python3"
    },
    "language_info": {
      "codemirror_mode": {
        "name": "ipython",
        "version": 3
      },
      "file_extension": ".py",
      "mimetype": "text/x-python",
      "name": "python",
      "nbconvert_exporter": "python",
      "pygments_lexer": "ipython3",
      "version": "3.6.5"
    },
    "colab": {
      "name": "Copy of Week5_Project.ipynb",
      "provenance": [],
      "collapsed_sections": [],
      "toc_visible": true,
      "include_colab_link": true
    },
    "accelerator": "GPU"
  },
  "cells": [
    {
      "cell_type": "markdown",
      "metadata": {
        "id": "view-in-github",
        "colab_type": "text"
      },
      "source": [
        "<a href=\"https://colab.research.google.com/github/mongvuot336699/DevC/blob/master/Copy_of_Week5_Project.ipynb\" target=\"_parent\"><img src=\"https://colab.research.google.com/assets/colab-badge.svg\" alt=\"Open In Colab\"/></a>"
      ]
    },
    {
      "cell_type": "markdown",
      "metadata": {
        "id": "ofzy8xHIXdQF"
      },
      "source": [
        "[Bag of Words Meets Bags of Popcorn](https://www.kaggle.com/c/word2vec-nlp-tutorial/data)\n",
        "======\n",
        "\n",
        "## Data Set\n",
        "\n",
        "The labeled data set consists of 50,000 IMDB movie reviews, specially selected for sentiment analysis. The sentiment of reviews is binary, meaning the IMDB rating < 5 results in a sentiment score of 0, and rating >=7 have a sentiment score of 1. No individual movie has more than 30 reviews. The 25,000 review labeled training set does not include any of the same movies as the 25,000 review test set. In addition, there are another 50,000 IMDB reviews provided without any rating labels.\n",
        "\n",
        "## File descriptions\n",
        "\n",
        "labeledTrainData - The labeled training set. The file is tab-delimited and has a header row followed by 25,000 rows containing an id, sentiment, and text for each review.\n",
        "## Data fields\n",
        "\n",
        "* id - Unique ID of each review\n",
        "* sentiment - Sentiment of the review; 1 for positive reviews and 0 for negative reviews\n",
        "* review - Text of the review\n",
        "\n",
        "## Objective\n",
        "Objective of this dataset is base on **review** we predict **sentiment** (positive or negative) so X is **review** column and y is **sentiment** column"
      ]
    },
    {
      "cell_type": "markdown",
      "metadata": {
        "id": "dub6uxUzXdQH"
      },
      "source": [
        "## 1. Load Dataset\n",
        "\n",
        "Let's first of all have a look at the data. You can download the file `labeledTrainData.tsv` on the [Kaggle website of the competition](https://www.kaggle.com/c/word2vec-nlp-tutorial/data), or on our [Google Drive](https://drive.google.com/file/d/1a1Lyn7ihikk3klAX26fgO3YsGdWHWoK5/view?usp=sharing)\n"
      ]
    },
    {
      "cell_type": "code",
      "metadata": {
        "id": "y1WU9XkYXdQI"
      },
      "source": [
        "# Import pandas, numpy\n",
        "import numpy as np\n",
        "import pandas as pd"
      ],
      "execution_count": 30,
      "outputs": []
    },
    {
      "cell_type": "code",
      "metadata": {
        "id": "_iH9rAw7XdQL",
        "outputId": "0321f8f3-98d5-47f6-d01b-9527c0378f40",
        "colab": {
          "base_uri": "https://localhost:8080/",
          "height": 204
        }
      },
      "source": [
        "# Read dataset with extra params sep='\\t', encoding=\"latin-1\"\n",
        "df = pd.read_csv('labeledTrainData.tsv', sep='\\t', encoding=\"latin-1\")\n",
        "df.head()"
      ],
      "execution_count": 31,
      "outputs": [
        {
          "output_type": "execute_result",
          "data": {
            "text/html": [
              "<div>\n",
              "<style scoped>\n",
              "    .dataframe tbody tr th:only-of-type {\n",
              "        vertical-align: middle;\n",
              "    }\n",
              "\n",
              "    .dataframe tbody tr th {\n",
              "        vertical-align: top;\n",
              "    }\n",
              "\n",
              "    .dataframe thead th {\n",
              "        text-align: right;\n",
              "    }\n",
              "</style>\n",
              "<table border=\"1\" class=\"dataframe\">\n",
              "  <thead>\n",
              "    <tr style=\"text-align: right;\">\n",
              "      <th></th>\n",
              "      <th>id</th>\n",
              "      <th>sentiment</th>\n",
              "      <th>review</th>\n",
              "    </tr>\n",
              "  </thead>\n",
              "  <tbody>\n",
              "    <tr>\n",
              "      <th>0</th>\n",
              "      <td>5814_8</td>\n",
              "      <td>1</td>\n",
              "      <td>With all this stuff going down at the moment w...</td>\n",
              "    </tr>\n",
              "    <tr>\n",
              "      <th>1</th>\n",
              "      <td>2381_9</td>\n",
              "      <td>1</td>\n",
              "      <td>\\The Classic War of the Worlds\\\" by Timothy Hi...</td>\n",
              "    </tr>\n",
              "    <tr>\n",
              "      <th>2</th>\n",
              "      <td>7759_3</td>\n",
              "      <td>0</td>\n",
              "      <td>The film starts with a manager (Nicholas Bell)...</td>\n",
              "    </tr>\n",
              "    <tr>\n",
              "      <th>3</th>\n",
              "      <td>3630_4</td>\n",
              "      <td>0</td>\n",
              "      <td>It must be assumed that those who praised this...</td>\n",
              "    </tr>\n",
              "    <tr>\n",
              "      <th>4</th>\n",
              "      <td>9495_8</td>\n",
              "      <td>1</td>\n",
              "      <td>Superbly trashy and wondrously unpretentious 8...</td>\n",
              "    </tr>\n",
              "  </tbody>\n",
              "</table>\n",
              "</div>"
            ],
            "text/plain": [
              "       id  sentiment                                             review\n",
              "0  5814_8          1  With all this stuff going down at the moment w...\n",
              "1  2381_9          1  \\The Classic War of the Worlds\\\" by Timothy Hi...\n",
              "2  7759_3          0  The film starts with a manager (Nicholas Bell)...\n",
              "3  3630_4          0  It must be assumed that those who praised this...\n",
              "4  9495_8          1  Superbly trashy and wondrously unpretentious 8..."
            ]
          },
          "metadata": {
            "tags": []
          },
          "execution_count": 31
        }
      ]
    },
    {
      "cell_type": "code",
      "metadata": {
        "id": "ajgP40fmhQSS",
        "outputId": "89de1b23-78a5-4985-8d50-4122be98dcc7",
        "colab": {
          "base_uri": "https://localhost:8080/",
          "height": 187
        }
      },
      "source": [
        "df.info()"
      ],
      "execution_count": 32,
      "outputs": [
        {
          "output_type": "stream",
          "text": [
            "<class 'pandas.core.frame.DataFrame'>\n",
            "RangeIndex: 25000 entries, 0 to 24999\n",
            "Data columns (total 3 columns):\n",
            " #   Column     Non-Null Count  Dtype \n",
            "---  ------     --------------  ----- \n",
            " 0   id         25000 non-null  object\n",
            " 1   sentiment  25000 non-null  int64 \n",
            " 2   review     25000 non-null  object\n",
            "dtypes: int64(1), object(2)\n",
            "memory usage: 586.1+ KB\n"
          ],
          "name": "stdout"
        }
      ]
    },
    {
      "cell_type": "code",
      "metadata": {
        "id": "_gEyDmdbh4Pk",
        "outputId": "6c7bba2f-ddd4-4aac-e71f-0c6e7d5da0f3",
        "colab": {
          "base_uri": "https://localhost:8080/",
          "height": 241
        }
      },
      "source": [
        "df['review'].value_counts()\n",
        "# loai bo <br /> , \\ , - \n",
        "# lower \n",
        "# dau cham \".\" , dau phay \",\" "
      ],
      "execution_count": 33,
      "outputs": [
        {
          "output_type": "execute_result",
          "data": {
            "text/plain": [
              "How has this piece of crap stayed on TV this long? It's terrible. It makes me want to shoot someone. It's so fake that it is actually worse than a 1940s sci-fi movie. I'd rather have a stroke than watch this nonsense. I remember watching it when it first came out. I thought, hey this could be interesting, then I found out how absolutely, insanely, ridiculously stupid it really was. It was so bad that I actually took out my pocket knife and stuck my hand to the table.<br /><br />Please people, stop watching this and all other reality shows, they're the trash that is jamming the networks and canceling quality programming that requires some thought to create.                                                                                                                                                                                                                                                                                                                                                                                                                                                                                                                                                                                                                                                                                                                                                                                                                                                                                                                                                                                                                                                                                                                                                                                                                                                     3\n",
              "You do realize that you've been watching the EXACT SAME SHOW for eight years, right? I could understand the initial curiosity of seeing strangers co-exist on an Island, but you'd think that after watching unkempt, stink-ladened heroes run roughshod through the bush with an egg on a spoon for half a decade would be enough to get you to commit to something a little more original (and interesting).<br /><br />And I'm not even speaking of the shows validity which for the record I find questionable. It's just hard to suspend disbelief for \\Bushy Bill\\\" eating a rat when the entire crew of producers and camera people are housed in an air conditioned make-shift bio-dome sipping frosty mochcinno's with moxy.<br /><br />What's the appeal here? I don't care about these people or their meandering lives. I just don't get it. But if you DO find yourself being captivated by hairy, unwashed people, I suggest you turn off your TV and just take a trip to your local bus station where you can see people like this in their TRUE habitat. They call them HOMELESS PEOPLE, and free of charge, you can sit back and marvel in their uncanny ability to retrieve various cigarette debris from a plethora of garbage canisters, eventually striking \\\"pay-dirt\\\" and fashioning a homemade Dr. Frankenstein-styled cancer-stick, all the while begging people for change for food when the stink of \\\"Aqua Velva\\\" on their breath is enough to suggest otherwise. And the best part? Much like Survivor, every week one member of the tribe \\\"Leaves\\\" the \\\"Island\\\" when they are unceremoniously sent packing to the local Institution when the frightening unmedicated state of full-blown schizophrenia kicks into gear! Now THAT'S ENTERTAINMENT!\"                                                                                                                                                       3\n",
              "When i got this movie free from my job, along with three other similar movies.. I watched then with very low expectations. Now this movie isn't bad per se. You get what you pay for. It is a tale of love, betrayal, lies, sex, scandal, everything you want in a movie. Definitely not a Hollywood blockbuster, but for cheap thrills it is not that bad. I would probably never watch this movie again. In a nutshell this is the kind of movie that you would see either very late at night on a local television station that is just wanting to take up some time, or you would see it on a Sunday afternoon on a local television station that is trying to take up some time. Despite the bad acting, clichÃ© lines, and sub par camera work. I didn't have the desire to turn off the movie and pretend like it never popped into my DVD player. The story has been done many times in many movies. This one is no different, no better, no worse. <br /><br />Just your average movie.                                                                                                                                                                                                                                                                                                                                                                                                                                                                                                                                                                                                                                                                                                                                                                                                                                                                                                                                             3\n",
              "This show comes up with interesting locations as fast as the travel channel. It is billed as reality but in actuality it is pure prime time soap opera. It's tries to use exotic locales as a facade to bring people into a phony contest & then proceeds to hook viewers on the contestants soap opera style.<br /><br />It also borrows from an early CBS game show pioneer- Beat The Clock- by inventing situations for its contestants to try & overcome. Then it rewards the winner money. If they can spice it up with a little interaction between the characters, even better. While the game format is in slow motion versus Beat The Clock- the real accomplishment of this series is to escape reality. <br /><br />This show has elements of several types of successful past programs. Reality television, hardly, but if your hooked on the contestants, locale or contest, this is your cup of tea. If your not, this entire series is as I say, drivel dripping with gravy. It is another show hiding behind the reality label which is the trend it started in 2000.<br /><br />It is slick & well produced, so it might last a while yet. After all, so do re-runs of Gilligan's Island, Green Acres, The Beverly Hillbillies & The Brady Bunch. This just doesn't employ professional actors. The intelligence level is about the same.                                                                                                                                                                                                                                                                                                                                                                                                                                                                                                                                                                                   3\n",
              "I have been familiar with the fantastic book of 'Goodnight Mister Tom' for absolutely ages and it was only recently when I got the chance to watch this adaption of it. I have heard lots of positive remarks about this, so I had high hopes. Once this film had finished, I was horrified.<br /><br />This film is not a good film at all. 'Goodnight Mister Tom' was an extremely poor adaption and practically 4.5/10 of the book was missed out. Particularly, I found that a lot of the characters and some great scenes in the book were not in this. There was not much dialogue, It was rushed and far too fast-moving, but I was mostly upset by the fact that you never got to see the bonding and love between William Beech and Tom in this film which was a true let down. The casting was not all that good,either. I thought this could have been really good, but it was so different to the book! Anextremely poor adaption, one of the worst I've seen. This deserves a decent remake that'd better be 1000 times better than this pile of garbage.                                                                                                                                                                                                                                                                                                                                                                                                                                                                                                                                                                                                                                                                                                                                                                                                                                                                       2\n",
              "                                                                                                                                                                                                                                                                                                                                                                                                                                                                                                                                                                                                                                                                                                                                                                                                                                                                                                                                                                                                                                                                                                                                                                                                                                                                                                                                                                                                                                                                                                                                                                                                                                                                                                                                                                                                                                                                                                                                            ..\n",
              "To start off with, since this movie is a remake of a classic, the rating has to be lowered already. Since this version stars Viggo Mortensen in the lead role of Kowalski, it helps.<br /><br />Isn't this just like the United States government though, to terrorize one of its own citizens. Sounds like Jason Priestley's character from the movie! But it is the truth, the government would do anything possible to destroy a man's life for trying to get home to his wife. A wife, who is in labor no less, and may not make it.<br /><br />\\There was a time in this country that the police would escort a man to his pregnant wife.\\\" The words of the Disc Jockey.<br /><br />There were some great shots of scenery in this film, and great car chases and a lot of spirituality. After much consideration, I gave this film a 7.\"                                                                                                                                                                                                                                                                                                                                                                                                                                                                                                                                                                                                                                                                                                                                                                                                                                                                                                                                                                                                                                                                                              1\n",
              "Wow, I love and respect pretty much anything that David Lynch has done. However, this movie is akin to a first filmmaker's attempt at making a pseudo art video. <br /><br />To give you a couple of examples: <br /><br />1. David Lynch is typically a visual filmmaker, however, this had little visual artistic content (blank walls, \\up shots\\\" with ceiling in the background) <br /><br />2. David Lynch typically takes great pride in audio, however, in this you could even hear the video camera's hum. <br /><br />In fact, it is very hard to swallow the idea that he had anything to do with this movie. unless...<br /><br />...this is a joke, on David's part, to force fans search his website (for hours) only to find this drivel. I hope so, because at least that idea is funny.\"                                                                                                                                                                                                                                                                                                                                                                                                                                                                                                                                                                                                                                                                                                                                                                                                                                                                                                                                                                                                                                                                                                                                    1\n",
              "We don't have to lose this movie, this is one of the greatest I have ever seen. Jean Pierre Leaud is amazing (more than usual) and the movie is one of the most unforgettable of the nouvelle vogue. Jean Eustache is no more on this earth, we just have this black and white images to remember one of the greatest and most subvalued french directors. You just have to love this masterpiece. I'll never forget it.<br /><br />P.S.: sorry for the english...                                                                                                                                                                                                                                                                                                                                                                                                                                                                                                                                                                                                                                                                                                                                                                                                                                                                                                                                                                                                                                                                                                                                                                                                                                                                                                                                                                                                                                                                           1\n",
              "Sadly not available on DVD as yet, but worth pursuing on TCM or VHS. A secretary believes her boss is wrongly accused of murder, and courageously takes on many dangerous characters in an effort to establish the truth. A movie with many twists and dark alleyways, none of which I will mention! The jazz band sequence where our heroine seeks the information about the killer, is one of the most erotic scenes in Hollywood history, despite being at very low budget and made during WWII in black and white. Despite the low budget - Long Island looks somewhat mountainous - this is a movie of original style and outstanding vision. Ella Raines was a great actress discovered by Howard Hawks who knew much about these matters, casting the feistiest women - Joanne Dru, Hepburn, Angie Dickinson, Lauren Bacall, Ann Sheridan - of their era. Robert Siodmak was of one of several German, Hungarian & Czech film-makers - Sirk, Wilder, Zinnemann, Lubitsch, Curtiz,Lang, etc - who Ã©migrÃ©s relocated to Hollywood, and brought a highly original fresh vision with them. Sadly Ella Raines was never given such a great part again, and eventually ended up in poorly produced westerns.                                                                                                                                                                                                                                                                                                                                                                                                                                                                                                                                                                                                                                                                                                                              1\n",
              "The first 30 minutes of Tinseltown had my finger teetering on the remote, poised to flick around to watch something else. The premise of two writers, down on their luck, living in a self-storage-space \\bin\\\" was mildly amusing, but, painfully bland.<br /><br />The introduction of the character, played by Joe Pantoliano - the big deal movie guy, that lives in the park and sleeps in a lavatory, offered hope and I decided to give it a few more minutes. And then a few more until Kristy Swansons introduction as a budding film director & borderline nymphomaniac, added a bit of spice. Her solid acting performance raised her presence above and beyond just a very welcome eye-candy inclusion.<br /><br />Ultimately, the obvious low-budget impacts on the film with poorly shot scenes, stuttured pace and slapstick handling of certain moments. Some of my favourite movies of all time have been low budget, Whithnail & I being one that also deals with 2 guys with a dream, but down on their luck.<br /><br />However, for my money, the actors save Tinseltown from the \\\"Terrible movie\\\" archives and just about nudges it into the \\\"could have been a cult movie\\\" archives. I laughed out loud at some of the scenes involving Joe Pantoliano's character. In particular, the penultimate scenes in the terribly clichÃ©d, but still funny, rich-but-screwed-up characters house, where the story unravels towards it's final moments.<br /><br />I can see how Tinseltown was a great stage play and while the film-makers did their best to translate this to celluloid, it simply didn't work and while I laughed out loud at some of scenes and one liners, I think the first 30 minutes dulled my senses and expectations to such a degree I would have laughed at anything.<br /><br />Unless you're stuck for a novelty coffee coaster, don't pick this up if you see it in a bargain bucket.\"    1\n",
              "Name: review, Length: 24904, dtype: int64"
            ]
          },
          "metadata": {
            "tags": []
          },
          "execution_count": 33
        }
      ]
    },
    {
      "cell_type": "markdown",
      "metadata": {
        "id": "bbuaIdhWXdQO"
      },
      "source": [
        "## 2. Preprocessing"
      ]
    },
    {
      "cell_type": "code",
      "metadata": {
        "id": "wJr6juwHXdQP",
        "outputId": "a8434ac5-b055-4ee2-fa5b-14f1945a5755",
        "colab": {
          "base_uri": "https://localhost:8080/",
          "height": 68
        }
      },
      "source": [
        "# stop words\n",
        "import nltk \n",
        "nltk.download('stopwords')"
      ],
      "execution_count": 34,
      "outputs": [
        {
          "output_type": "stream",
          "text": [
            "[nltk_data] Downloading package stopwords to /root/nltk_data...\n",
            "[nltk_data]   Package stopwords is already up-to-date!\n"
          ],
          "name": "stdout"
        },
        {
          "output_type": "execute_result",
          "data": {
            "text/plain": [
              "True"
            ]
          },
          "metadata": {
            "tags": []
          },
          "execution_count": 34
        }
      ]
    },
    {
      "cell_type": "code",
      "metadata": {
        "id": "3v220Tp_XdQS"
      },
      "source": [
        "# Removing special characters and \"trash\"\n",
        "import re\n",
        "def preprocessor(text):\n",
        "    # Remove HTML markup\n",
        "    text = re.sub('<[^>]*>', '', text) \n",
        "    \n",
        "    # Save emoticons for later appending\n",
        "    emoticons = re.findall('(?::|;|=)(?:-)?(?:\\)|\\(|D|P)', text)\n",
        "    # Your code here\n",
        "    \n",
        "    # Remove any non-word character and append the emoticons,\n",
        "    # removing the nose character for standarization. Convert to lower case\n",
        "    text = (re.sub('[\\W]+', ' ', text.lower()) + ' ' + ' '.join(emoticons).replace('-', ''))\n",
        "    # Your code here\n",
        "    \n",
        "    return text"
      ],
      "execution_count": 37,
      "outputs": []
    },
    {
      "cell_type": "code",
      "metadata": {
        "id": "J06jKwvNc2j8"
      },
      "source": [
        "df['review'] = df['review'].apply(preprocessor)"
      ],
      "execution_count": 38,
      "outputs": []
    },
    {
      "cell_type": "code",
      "metadata": {
        "id": "5aDEeeJ6ejTM",
        "outputId": "c777d2bf-d5d0-49df-bc63-dc148e093ee0",
        "colab": {
          "base_uri": "https://localhost:8080/",
          "height": 221
        }
      },
      "source": [
        "df['review']"
      ],
      "execution_count": 39,
      "outputs": [
        {
          "output_type": "execute_result",
          "data": {
            "text/plain": [
              "0        with all this stuff going down at the moment w...\n",
              "1         the classic war of the worlds by timothy hine...\n",
              "2        the film starts with a manager nicholas bell g...\n",
              "3        it must be assumed that those who praised this...\n",
              "4        superbly trashy and wondrously unpretentious 8...\n",
              "                               ...                        \n",
              "24995    it seems like more consideration has gone into...\n",
              "24996    i don t believe they made this film completely...\n",
              "24997    guy is a loser can t get girls needs to build ...\n",
              "24998    this 30 minute documentary buã uel made in the...\n",
              "24999    i saw this movie as a child and it broke my he...\n",
              "Name: review, Length: 25000, dtype: object"
            ]
          },
          "metadata": {
            "tags": []
          },
          "execution_count": 39
        }
      ]
    },
    {
      "cell_type": "code",
      "metadata": {
        "id": "8NU6oOsWfwEk",
        "outputId": "26747621-3899-49e6-cc34-6b1398aa3863",
        "colab": {
          "base_uri": "https://localhost:8080/",
          "height": 357
        }
      },
      "source": [
        "#stop words\n",
        "from collections import Counter \n",
        "from nltk.corpus import stopwords \n",
        "\n",
        "stop_words = stopwords.words('english')\n",
        "vocab = Counter()\n",
        "\n",
        "for review in df.review:\n",
        "  for word in review.split(' '):\n",
        "    vocab[word] += 1\n",
        "\n",
        "vocab.most_common(20)"
      ],
      "execution_count": 40,
      "outputs": [
        {
          "output_type": "execute_result",
          "data": {
            "text/plain": [
              "[('the', 336626),\n",
              " ('and', 164097),\n",
              " ('a', 163112),\n",
              " ('of', 145848),\n",
              " ('to', 135701),\n",
              " ('is', 107310),\n",
              " ('it', 96377),\n",
              " ('in', 93953),\n",
              " ('i', 87576),\n",
              " ('this', 75964),\n",
              " ('that', 73252),\n",
              " ('s', 63915),\n",
              " ('', 49411),\n",
              " ('was', 48195),\n",
              " ('as', 46932),\n",
              " ('for', 44329),\n",
              " ('with', 44118),\n",
              " ('movie', 44020),\n",
              " ('but', 42612),\n",
              " ('film', 40135)]"
            ]
          },
          "metadata": {
            "tags": []
          },
          "execution_count": 40
        }
      ]
    },
    {
      "cell_type": "code",
      "metadata": {
        "id": "t8xzvFB-ik2V",
        "outputId": "f12a7a54-11de-40c7-bf3e-6e84573315d6",
        "colab": {
          "base_uri": "https://localhost:8080/",
          "height": 357
        }
      },
      "source": [
        "vocab_reduced = Counter()\n",
        "for w, c in vocab.items():\n",
        "  if w not in stop_words:\n",
        "    vocab_reduced[w] = c \n",
        "\n",
        "vocab_reduced.most_common(20)"
      ],
      "execution_count": 41,
      "outputs": [
        {
          "output_type": "execute_result",
          "data": {
            "text/plain": [
              "[('', 49411),\n",
              " ('movie', 44020),\n",
              " ('film', 40135),\n",
              " ('one', 26783),\n",
              " ('like', 20273),\n",
              " ('good', 15140),\n",
              " ('time', 12718),\n",
              " ('even', 12645),\n",
              " ('would', 12436),\n",
              " ('story', 11976),\n",
              " ('really', 11734),\n",
              " ('see', 11474),\n",
              " ('well', 10651),\n",
              " ('much', 9762),\n",
              " ('get', 9308),\n",
              " ('bad', 9301),\n",
              " ('people', 9283),\n",
              " ('also', 9156),\n",
              " ('first', 9061),\n",
              " ('great', 9057)]"
            ]
          },
          "metadata": {
            "tags": []
          },
          "execution_count": 41
        }
      ]
    },
    {
      "cell_type": "code",
      "metadata": {
        "id": "-o5ED67LXdQV"
      },
      "source": [
        "# tokenizer and stemming\n",
        "# tokenizer: to break down our twits in individual words\n",
        "# stemming: reducing a word to its root\n",
        "from nltk.stem import PorterStemmer\n",
        "# Your code here\n",
        "porter = PorterStemmer()\n",
        "\n",
        "def tokenizer_porter(text):\n",
        "    return [porter.stem(word) for word in text.split()]"
      ],
      "execution_count": 42,
      "outputs": []
    },
    {
      "cell_type": "code",
      "metadata": {
        "id": "Q721Sx5KwrKA",
        "outputId": "56589b82-16d5-48bd-d79f-9701993fc6bc",
        "colab": {
          "base_uri": "https://localhost:8080/",
          "height": 71
        }
      },
      "source": [
        "# TfidfVectorizer\n",
        "from sklearn.feature_extraction.text import TfidfVectorizer\n",
        "\n",
        "tfidf = TfidfVectorizer (\n",
        "                    stop_words = stop_words,\n",
        "                    tokenizer = tokenizer_porter,\n",
        "                    preprocessor = preprocessor\n",
        ")\n",
        "X = df['review']\n",
        "X_vector = tfidf.fit_transform(X)"
      ],
      "execution_count": 43,
      "outputs": [
        {
          "output_type": "stream",
          "text": [
            "/usr/local/lib/python3.6/dist-packages/sklearn/feature_extraction/text.py:385: UserWarning: Your stop_words may be inconsistent with your preprocessing. Tokenizing the stop words generated tokens ['abov', 'ani', 'becaus', 'befor', 'doe', 'dure', 'ha', 'hi', 'onc', 'onli', 'ourselv', 'themselv', 'thi', 'veri', 'wa', 'whi', 'yourselv'] not in stop_words.\n",
            "  'stop_words.' % sorted(inconsistent))\n"
          ],
          "name": "stderr"
        }
      ]
    },
    {
      "cell_type": "code",
      "metadata": {
        "id": "zjzOxu4MXdQZ"
      },
      "source": [
        "# split the dataset in train and test\n",
        "# Your code here\n",
        "from sklearn.model_selection import train_test_split\n",
        "#X = df['review']\n",
        "Xv = X_vector\n",
        "y = df['sentiment']\n",
        "X_train , X_test , y_train, y_test = train_test_split(Xv,y, test_size = 0.2 , random_state = 102)"
      ],
      "execution_count": 44,
      "outputs": []
    },
    {
      "cell_type": "markdown",
      "metadata": {
        "id": "COr1xR7PXdQc"
      },
      "source": [
        "## 3. Create Model and Train \n",
        "\n",
        "Using **Pipeline** to concat **tfidf** step and **LogisticRegression** step"
      ]
    },
    {
      "cell_type": "code",
      "metadata": {
        "id": "tOpwINJmXdQd",
        "outputId": "29750b28-e0e9-4ece-dd58-bbdaf3c14e67",
        "colab": {
          "base_uri": "https://localhost:8080/",
          "height": 102
        }
      },
      "source": [
        "# Import Pipeline, LogisticRegression, TfidfVectorizer\n",
        "from sklearn.linear_model import LogisticRegression\n",
        "# from sklearn.feature_extraction.text import TfidfVectorizer\n",
        "\n",
        "# tfidf = TfidfVectorizer (\n",
        "#                     stop_words = stop_words,\n",
        "#                     tokenizer = tokenizer_porter,\n",
        "#                     preprocessor = preprocessor\n",
        "# )\n",
        "clf = LogisticRegression(random_state=0)\n",
        "\n",
        "clf.fit(X_train, y_train)\n",
        "# clf = Pipeline(# Your code here)\n",
        "# clf.fit(X_train, y_train)"
      ],
      "execution_count": 47,
      "outputs": [
        {
          "output_type": "execute_result",
          "data": {
            "text/plain": [
              "LogisticRegression(C=1.0, class_weight=None, dual=False, fit_intercept=True,\n",
              "                   intercept_scaling=1, l1_ratio=None, max_iter=100,\n",
              "                   multi_class='auto', n_jobs=None, penalty='l2',\n",
              "                   random_state=0, solver='lbfgs', tol=0.0001, verbose=0,\n",
              "                   warm_start=False)"
            ]
          },
          "metadata": {
            "tags": []
          },
          "execution_count": 47
        }
      ]
    },
    {
      "cell_type": "markdown",
      "metadata": {
        "id": "KYdoVMx_XdQf"
      },
      "source": [
        "## 4. Evaluate Model"
      ]
    },
    {
      "cell_type": "code",
      "metadata": {
        "id": "Z2ZOzHoaXdQg",
        "outputId": "36277476-98d0-4692-f09a-2ced14fd901c",
        "colab": {
          "base_uri": "https://localhost:8080/",
          "height": 255
        }
      },
      "source": [
        "# Using Test dataset to evaluate model\n",
        "# classification_report\n",
        "# confusion matrix\n",
        "from sklearn.metrics import accuracy_score, confusion_matrix , classification_report\n",
        "predict = clf.predict(X_test)\n",
        "print('accuracy_score: ' , accuracy_score(y_test,predict))\n",
        "print('confusion_matrix: \\n', confusion_matrix(y_test, predict))\n",
        "print('classification_report: \\n', classification_report(y_test,predict))\n"
      ],
      "execution_count": 48,
      "outputs": [
        {
          "output_type": "stream",
          "text": [
            "accuracy_score:  0.885\n",
            "confusion_matrix: \n",
            " [[2162  341]\n",
            " [ 234 2263]]\n",
            "classification_report: \n",
            "               precision    recall  f1-score   support\n",
            "\n",
            "           0       0.90      0.86      0.88      2503\n",
            "           1       0.87      0.91      0.89      2497\n",
            "\n",
            "    accuracy                           0.89      5000\n",
            "   macro avg       0.89      0.89      0.88      5000\n",
            "weighted avg       0.89      0.89      0.88      5000\n",
            "\n"
          ],
          "name": "stdout"
        }
      ]
    },
    {
      "cell_type": "markdown",
      "metadata": {
        "id": "NCAuLC0aXdQi"
      },
      "source": [
        "## 5. Export Model "
      ]
    },
    {
      "cell_type": "code",
      "metadata": {
        "id": "sYHo_x67XdQj"
      },
      "source": [
        "# Using pickle to export our trained model\n",
        "import pickle\n",
        "import os\n",
        "pickle.dump(clf, open('logisticRegression.pkl', 'wb'))"
      ],
      "execution_count": 51,
      "outputs": []
    }
  ]
}