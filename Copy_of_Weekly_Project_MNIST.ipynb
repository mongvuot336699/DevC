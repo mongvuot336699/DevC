{
  "nbformat": 4,
  "nbformat_minor": 0,
  "metadata": {
    "colab": {
      "name": "Copy of Weekly-Project-MNIST.ipynb",
      "provenance": [],
      "collapsed_sections": [],
      "toc_visible": true,
      "include_colab_link": true
    },
    "kernelspec": {
      "display_name": "Python 3",
      "language": "python",
      "name": "python3"
    },
    "language_info": {
      "codemirror_mode": {
        "name": "ipython",
        "version": 3
      },
      "file_extension": ".py",
      "mimetype": "text/x-python",
      "name": "python",
      "nbconvert_exporter": "python",
      "pygments_lexer": "ipython3",
      "version": "3.7.6"
    }
  },
  "cells": [
    {
      "cell_type": "markdown",
      "metadata": {
        "id": "view-in-github",
        "colab_type": "text"
      },
      "source": [
        "<a href=\"https://colab.research.google.com/github/mongvuot336699/DevC/blob/master/Copy_of_Weekly_Project_MNIST.ipynb\" target=\"_parent\"><img src=\"https://colab.research.google.com/assets/colab-badge.svg\" alt=\"Open In Colab\"/></a>"
      ]
    },
    {
      "cell_type": "markdown",
      "metadata": {
        "id": "Ps5x-gYUCf9_"
      },
      "source": [
        "# Handwritten Digits Classification"
      ]
    },
    {
      "cell_type": "markdown",
      "metadata": {
        "id": "0glR10XBCxNy"
      },
      "source": [
        "## Overview\n",
        "\n",
        "The MNIST database (Modified National Institute of Standards and Technology database) is a large database of handwritten digits that is commonly used for training various image processing systems. MNIST is like the \"Hello World\" of machine learning with which you can try out a few machine learning algorithms.\n",
        "\n",
        "![](https://upload.wikimedia.org/wikipedia/commons/2/27/MnistExamples.png)\n",
        "\n",
        "Each image is 28 pixels in height and 28 pixels in width, for a total of 784 pixels in total. Each pixel has a single pixel-value associated with it, indicating the lightness or darkness of that pixel, with higher numbers meaning lighter. This pixel-value is an integer between 0 and 255, inclusive.\n",
        "\n",
        "Visually, if we omit the \"pixel\" prefix, the pixels make up the image like this:\n",
        "```\n",
        "000 001 002 003 ... 026 027\n",
        "028 029 030 031 ... 054 055\n",
        "056 057 058 059 ... 082 083\n",
        " |   |   |   |  ...  |   |\n",
        "728 729 730 731 ... 754 755\n",
        "756 757 758 759 ... 782 783 \n",
        "```"
      ]
    },
    {
      "cell_type": "markdown",
      "metadata": {
        "id": "-3hGXfqVDRna"
      },
      "source": [
        "## Get Data"
      ]
    },
    {
      "cell_type": "code",
      "metadata": {
        "id": "4IWx_-bBEYAT"
      },
      "source": [
        "import numpy as np\n",
        "import pandas as pd\n",
        "import seaborn as sns\n",
        "import matplotlib.pyplot as plt\n",
        "%matplotlib inline\n",
        "\n",
        "import warnings\n",
        "warnings.filterwarnings('ignore')\n",
        "\n",
        "sns.set_style(\"whitegrid\")"
      ],
      "execution_count": null,
      "outputs": []
    },
    {
      "cell_type": "code",
      "metadata": {
        "id": "BNhUbXb9CSbh",
        "outputId": "52074272-d40b-4428-a9e0-2c3fe2af133b",
        "colab": {
          "base_uri": "https://localhost:8080/",
          "height": 85
        }
      },
      "source": [
        "from tensorflow.keras.datasets import mnist\n",
        "\n",
        "(X_train, y_train), (X_test, y_test) = mnist.load_data()\n",
        "\n",
        "print('Training data:', X_train.shape, y_train.shape)\n",
        "print('Test data:', X_test.shape, y_test.shape)"
      ],
      "execution_count": null,
      "outputs": [
        {
          "output_type": "stream",
          "text": [
            "Downloading data from https://storage.googleapis.com/tensorflow/tf-keras-datasets/mnist.npz\n",
            "11493376/11490434 [==============================] - 0s 0us/step\n",
            "Training data: (60000, 28, 28) (60000,)\n",
            "Test data: (10000, 28, 28) (10000,)\n"
          ],
          "name": "stdout"
        }
      ]
    },
    {
      "cell_type": "markdown",
      "metadata": {
        "id": "VYTtM9VlGs31"
      },
      "source": [
        "## EDA"
      ]
    },
    {
      "cell_type": "code",
      "metadata": {
        "id": "xcZURSKuDcvm"
      },
      "source": [
        "def plot_images(images, labels):\n",
        "    '''Plot images with their labels. Ten each row'''\n",
        "    plt.figure(figsize=(20, 10))\n",
        "    columns = 10\n",
        "    for i, image in enumerate(images):\n",
        "        ax = plt.subplot(len(images) / columns + 1, columns, i + 1)\n",
        "        ax.set_title(f\"{labels[i]}\", fontsize=16)\n",
        "        plt.axis('off')\n",
        "        plt.subplots_adjust(bottom=0.1)\n",
        "        plt.imshow(image, cmap='gray')\n",
        "\n",
        "def get_samples(n_samples, X, y):\n",
        "    '''Get n_samples images randomly'''\n",
        "    samples = np.random.choice(np.arange(len(y)), n_samples, replace=False)\n",
        "    return X[samples], y[samples]\n",
        "\n",
        "def get_digit(digit, n_samples, X, y):\n",
        "    '''Get n_samples images of the class digit randomly'''\n",
        "    y_digit = y[y == digit]\n",
        "    samples = np.random.choice(np.arange(len(y_digit)), n_samples, replace=False)\n",
        "    return X[y == digit][samples], y_digit[samples]"
      ],
      "execution_count": null,
      "outputs": []
    },
    {
      "cell_type": "code",
      "metadata": {
        "id": "aFb7jU_ntz8r",
        "outputId": "c3e6b843-e82a-4eb0-d1fd-1987744237d0",
        "colab": {
          "base_uri": "https://localhost:8080/",
          "height": 34
        }
      },
      "source": [
        "s = np.random.choice(np.arange(10), 3, replace=False)\n",
        "s"
      ],
      "execution_count": null,
      "outputs": [
        {
          "output_type": "execute_result",
          "data": {
            "text/plain": [
              "array([6, 9, 3])"
            ]
          },
          "metadata": {
            "tags": []
          },
          "execution_count": 12
        }
      ]
    },
    {
      "cell_type": "code",
      "metadata": {
        "id": "OpMe7EMCEF01",
        "outputId": "0dfc8289-3023-41ce-d7b8-e086251d381a",
        "colab": {
          "base_uri": "https://localhost:8080/",
          "height": 436
        }
      },
      "source": [
        "n_samples = 30\n",
        "images, labels = get_samples(n_samples, X_train, y_train)\n",
        "# images, labels = get_digit(4, n_samples)\n",
        "plot_images(images, labels)"
      ],
      "execution_count": null,
      "outputs": [
        {
          "output_type": "display_data",
          "data": {
            "image/png": "[encoded data removed]",
            "text/plain": [
              "<Figure size 1440x720 with 30 Axes>"
            ]
          },
          "metadata": {
            "tags": [],
            "needs_background": "light"
          }
        }
      ]
    },
    {
      "cell_type": "markdown",
      "metadata": {
        "id": "Mh5Jukj4AIa8"
      },
      "source": [
        "**Plot the barplot of number of images of each class (0 to 9)**"
      ]
    },
    {
      "cell_type": "code",
      "metadata": {
        "id": "xjVYEat8EJTd",
        "outputId": "a929e2ee-ee04-46b9-846f-1891961cc1d2",
        "colab": {
          "base_uri": "https://localhost:8080/",
          "height": 282
        }
      },
      "source": [
        "# Your code here\n",
        "sns.countplot(y_test)"
      ],
      "execution_count": null,
      "outputs": [
        {
          "output_type": "execute_result",
          "data": {
            "text/plain": [
              "<matplotlib.axes._subplots.AxesSubplot at 0x7fde72a1b2e8>"
            ]
          },
          "metadata": {
            "tags": []
          },
          "execution_count": 13
        },
        {
          "output_type": "display_data",
          "data": {
            "image/png": "[encoded data removed]",
            "text/plain": [
              "<Figure size 432x288 with 1 Axes>"
            ]
          },
          "metadata": {
            "tags": [],
            "needs_background": "light"
          }
        }
      ]
    },
    {
      "cell_type": "markdown",
      "metadata": {
        "id": "yRxFLQZjAIbA"
      },
      "source": [
        "**Print out the range of pixel values (min, max)**"
      ]
    },
    {
      "cell_type": "code",
      "metadata": {
        "id": "d0rZBlU8FmtE",
        "outputId": "cfd3a0ca-a39f-4614-93b7-fefbae6cb256",
        "colab": {
          "base_uri": "https://localhost:8080/",
          "height": 34
        }
      },
      "source": [
        "# Your code here\n",
        "print('Pixel value range: ' , X_train.min(), X_train.max())"
      ],
      "execution_count": null,
      "outputs": [
        {
          "output_type": "stream",
          "text": [
            "Pixel value range:  0 255\n"
          ],
          "name": "stdout"
        }
      ]
    },
    {
      "cell_type": "markdown",
      "metadata": {
        "id": "XC2sFqfcJjQ1"
      },
      "source": [
        "## Transform data for training"
      ]
    },
    {
      "cell_type": "markdown",
      "metadata": {
        "id": "HtTutiwqAIbE"
      },
      "source": [
        "**Get the first `n_samples` images randomly from training set and test set. Then reshape them into long vectors**"
      ]
    },
    {
      "cell_type": "code",
      "metadata": {
        "id": "XF1XGXrvJlri"
      },
      "source": [
        "n_samples = 1000\n",
        "n_samples_test = 200\n",
        "# Fill the blanks\n",
        "X_train_flat, y_train_flat = get_samples(n_samples, X_train, y_train)\n",
        "X_test_flat, y_test_flat = get_samples(n_samples_test, X_test, y_test)\n",
        "\n",
        "# Normalization\n",
        "X_train_flat = X_train_flat.reshape((n_samples,-1))/255\n",
        "X_test_flat = X_test_flat.reshape((n_samples_test,-1))/255\n"
      ],
      "execution_count": null,
      "outputs": []
    },
    {
      "cell_type": "code",
      "metadata": {
        "id": "66rNQGgnK1MX",
        "outputId": "f38d8021-c011-483c-ba7f-826dd2377e52",
        "colab": {
          "base_uri": "https://localhost:8080/",
          "height": 51
        }
      },
      "source": [
        "print('Training data', X_train_flat.shape)\n",
        "print('Test data', X_test_flat.shape)"
      ],
      "execution_count": null,
      "outputs": [
        {
          "output_type": "stream",
          "text": [
            "Training data (1000, 784)\n",
            "Test data (200, 784)\n"
          ],
          "name": "stdout"
        }
      ]
    },
    {
      "cell_type": "markdown",
      "metadata": {
        "id": "bmxGMEGGLaJI"
      },
      "source": [
        "## Train models"
      ]
    },
    {
      "cell_type": "code",
      "metadata": {
        "id": "4tJcSPEbLRsh"
      },
      "source": [
        "from sklearn.svm import SVC\n",
        "from sklearn.metrics import confusion_matrix, accuracy_score\n",
        "from sklearn.model_selection import cross_val_score\n",
        "from sklearn.model_selection import GridSearchCV"
      ],
      "execution_count": null,
      "outputs": []
    },
    {
      "cell_type": "markdown",
      "metadata": {
        "id": "8vHewJOQAIbL"
      },
      "source": [
        "**Train a SVM model**: Set up the training process and train with the small samples of data first before you take the full training dataset to train."
      ]
    },
    {
      "cell_type": "code",
      "metadata": {
        "id": "Mo2qhFY_AIbL",
        "outputId": "ef1bac37-5fa6-4b6e-a581-d25ae21d79e8",
        "colab": {
          "base_uri": "https://localhost:8080/",
          "height": 85
        }
      },
      "source": [
        "# Your code here\n",
        "clf = SVC(kernel = 'linear')\n",
        "clf.fit(X_train_flat,y_train_flat)"
      ],
      "execution_count": null,
      "outputs": [
        {
          "output_type": "execute_result",
          "data": {
            "text/plain": [
              "SVC(C=1.0, break_ties=False, cache_size=200, class_weight=None, coef0=0.0,\n",
              "    decision_function_shape='ovr', degree=3, gamma='scale', kernel='linear',\n",
              "    max_iter=-1, probability=False, random_state=None, shrinking=True,\n",
              "    tol=0.001, verbose=False)"
            ]
          },
          "metadata": {
            "tags": []
          },
          "execution_count": 44
        }
      ]
    },
    {
      "cell_type": "code",
      "metadata": {
        "id": "IHx0-J7Ax4OP",
        "outputId": "c1bcbe0d-d913-491a-df6a-ae50b7774d4a",
        "colab": {
          "base_uri": "https://localhost:8080/",
          "height": 85
        }
      },
      "source": [
        "clf2 = SVC(kernel = 'rbf')\n",
        "clf2.fit(X_train_flat, y_train_flat)"
      ],
      "execution_count": null,
      "outputs": [
        {
          "output_type": "execute_result",
          "data": {
            "text/plain": [
              "SVC(C=1.0, break_ties=False, cache_size=200, class_weight=None, coef0=0.0,\n",
              "    decision_function_shape='ovr', degree=3, gamma='scale', kernel='rbf',\n",
              "    max_iter=-1, probability=False, random_state=None, shrinking=True,\n",
              "    tol=0.001, verbose=False)"
            ]
          },
          "metadata": {
            "tags": []
          },
          "execution_count": 48
        }
      ]
    },
    {
      "cell_type": "markdown",
      "metadata": {
        "id": "rupa4m2jX5rm"
      },
      "source": [
        "## Evaluation"
      ]
    },
    {
      "cell_type": "markdown",
      "metadata": {
        "id": "2ncaF-JMAIbN"
      },
      "source": [
        "**Get the predictions on test data**"
      ]
    },
    {
      "cell_type": "code",
      "metadata": {
        "id": "1rwL5VCIX9qi",
        "outputId": "1f31d1b9-ff79-4960-c1da-b7a54d636b43",
        "colab": {
          "base_uri": "https://localhost:8080/",
          "height": 34
        }
      },
      "source": [
        "# Your code here\n",
        "pre = clf.predict(X_test_flat)\n",
        "print('accuracy score : ', accuracy_score(y_test_flat,pre))"
      ],
      "execution_count": null,
      "outputs": [
        {
          "output_type": "stream",
          "text": [
            "accuracy score :  0.85\n"
          ],
          "name": "stdout"
        }
      ]
    },
    {
      "cell_type": "code",
      "metadata": {
        "id": "zkrOHVHxzKGU",
        "outputId": "c253ae93-2180-4692-fd53-a17c9b6726cd",
        "colab": {
          "base_uri": "https://localhost:8080/",
          "height": 34
        }
      },
      "source": [
        "pre2 = clf2.score(X_test_flat,y_test_flat)\n",
        "print('Accuracy score: ', pre2)"
      ],
      "execution_count": null,
      "outputs": [
        {
          "output_type": "stream",
          "text": [
            "Accuracy score:  0.885\n"
          ],
          "name": "stdout"
        }
      ]
    },
    {
      "cell_type": "markdown",
      "metadata": {
        "id": "IGuF9RSNAIbQ"
      },
      "source": [
        "**Plot the confusion matrix in form of a heatmap**"
      ]
    },
    {
      "cell_type": "code",
      "metadata": {
        "id": "2RyKjfmHX7SN",
        "outputId": "714949c7-9964-42a9-d6d7-677b681a78f1",
        "colab": {
          "base_uri": "https://localhost:8080/",
          "height": 612
        }
      },
      "source": [
        "# Your code here\n",
        "plt.figure(figsize=(10,10))\n",
        "sns.heatmap(confusion_matrix(y_test_flat, pre), cmap=\"YlGnBu\", annot=True, fmt=\"d\")\n",
        "plt.title(f'Accuracy score: {accuracy_score(y_test_flat, pre)}', fontsize=20)\n",
        "plt.show()"
      ],
      "execution_count": null,
      "outputs": [
        {
          "output_type": "display_data",
          "data": {
            "image/png": "[encoded data removed]",
            "text/plain": [
              "<Figure size 720x720 with 2 Axes>"
            ]
          },
          "metadata": {
            "tags": [],
            "needs_background": "light"
          }
        }
      ]
    },
    {
      "cell_type": "markdown",
      "metadata": {
        "id": "tSlYzbs9AIbS"
      },
      "source": [
        "**Plot the samples that the model predicts incorrectly**"
      ]
    },
    {
      "cell_type": "code",
      "metadata": {
        "id": "-_uUXSpazDLu",
        "outputId": "d9186bc9-c519-4f6b-af57-095cc863d50e",
        "colab": {
          "base_uri": "https://localhost:8080/",
          "height": 436
        }
      },
      "source": [
        "# Your code here\n",
        "wrong_predicted_images = X_test_flat[y_test_flat != pre].reshape((-1, 28, 28))\n",
        "wrong_predictions = pre[y_test_flat != pre]\n",
        "\n",
        "plot_images(wrong_predicted_images, wrong_predictions)"
      ],
      "execution_count": null,
      "outputs": [
        {
          "output_type": "display_data",
          "data": {
            "image/png": "[encoded data removed]",
            "text/plain": [
              "<Figure size 1440x720 with 30 Axes>"
            ]
          },
          "metadata": {
            "tags": [],
            "needs_background": "light"
          }
        }
      ]
    },
    {
      "cell_type": "markdown",
      "metadata": {
        "id": "Y8O1Hh7LYNjP"
      },
      "source": [
        "## Save model"
      ]
    },
    {
      "cell_type": "code",
      "metadata": {
        "id": "C7cNiWsLYPTE"
      },
      "source": [
        "import pickle\n",
        "\n",
        "pickle.dump(clf, open('svm_mnist.pkl', 'wb'))"
      ],
      "execution_count": null,
      "outputs": []
    },
    {
      "cell_type": "markdown",
      "metadata": {
        "id": "5B-g57XIYuH0"
      },
      "source": [
        "**Re-load model for testing**"
      ]
    },
    {
      "cell_type": "code",
      "metadata": {
        "id": "WDsYcxfzYd8F",
        "outputId": "68d07bc9-c83a-4393-df82-b2b9f710b799",
        "colab": {
          "base_uri": "https://localhost:8080/",
          "height": 34
        }
      },
      "source": [
        "# Your code here\n",
        "with open('svm_mnist.pkl', 'rb') as model:\n",
        "    reload_model = pickle.load(model)\n",
        "\n",
        "predictions = reload_model.predict(X_test_flat)\n",
        "print(f'Accuracy score: {accuracy_score(y_test_flat, pre)}')"
      ],
      "execution_count": null,
      "outputs": [
        {
          "output_type": "stream",
          "text": [
            "Accuracy score: 0.85\n"
          ],
          "name": "stdout"
        }
      ]
    },
    {
      "cell_type": "markdown",
      "metadata": {
        "id": "1BVyCBz2m0Lz"
      },
      "source": [
        "## BONUS: Embedding the model into a web application"
      ]
    },
    {
      "cell_type": "markdown",
      "metadata": {
        "id": "0Y2hes6WnfxV"
      },
      "source": [
        "### Project structure\n",
        "\n",
        "* Clone the files of the repository\n",
        "\n",
        "```bash\n",
        "git clone https://github.com/dhminh1024/flask_doc.git\n",
        "```\n",
        "\n",
        "* Change directory\n",
        "\n",
        "```bash\n",
        "cd flask_doc\n",
        "```\n",
        "\n",
        "* Create the following folders and files\n",
        "\n",
        "|-app/\n",
        "    |-templates/\n",
        "        |-base.html\n",
        "    |-static/\n",
        "        |-js/\n",
        "            |-index.js\n",
        "        |-css/\n",
        "            |-style.css\n",
        "        |-images/\n",
        "    |-blueprints/\n",
        "        |-__ init__.py\n",
        "    |-middlewares/\n",
        "    |-models/\n",
        "    |-main.py\n",
        "\n",
        "```bash\n",
        "mkdir app app/templates app/static app/static/js app/static/css app/static/images app/blueprints app/middlewares app/models\n",
        "touch app/main.py app/templates/base.html app/static/js/index.js app/static/css/style.css\n",
        "touch app/blueprints/__init__.py\n",
        "```\n",
        "\n",
        "* Add jquery (optional)\n",
        "\n",
        "```bash\n",
        "mv ./jquery-3.4.1.min.js app/static/js/\n",
        "```\n",
        "\n",
        "* Add Canvas (optional)\n",
        "\n",
        "```bash\n",
        "mv ./index.js app/static/js/index.js\n",
        "```\n",
        "\n",
        "* Add Coderschool logo (optional)\n",
        "\n",
        "```bash\n",
        "mv ./images/coderschool-logo.png app/static/images/\n",
        "rm -r images\n",
        "```\n",
        "\n",
        "* Add this code in **app/main.py**\n",
        "\n",
        "```python\n",
        "from flask import Flask, render_template\n",
        "from blueprints import *\n",
        "\n",
        "app = Flask(__name__)\n",
        "app.register_blueprint(home)\n",
        "\n",
        "if __name__ == '__main__':\n",
        "  app.run(host='127.0.0.1', port=5000, debug=True)\n",
        "```\n",
        "> *Hints: most of this code can be automaticaly generated with a VSCode Extension called flask-snippets by only writting \"fapp\"*\n",
        "> ![](https://i.imgur.com/npmdsha.png=500x)"
      ]
    },
    {
      "cell_type": "markdown",
      "metadata": {
        "id": "4YcCs2nPAIbb"
      },
      "source": [
        "### Generating a new blueprint of our Flask app\n",
        "\n",
        "> A blueprint is a template for generating a \"section\" of our Flask app\n",
        "\n",
        "* In **flask_doc** directory, run this code in the **Terminal**\n",
        "\n",
        "```bash\n",
        "export NEW_BLUEPRINT=home\n",
        "mkdir app/blueprints/$NEW_BLUEPRINT\n",
        "touch app/blueprints/$NEW_BLUEPRINT/__init__.py app/blueprints/$NEW_BLUEPRINT/blueprint.py\n",
        "echo \"from .$NEW_BLUEPRINT import $NEW_BLUEPRINT\" >> app/blueprints/__init__.py\n",
        "echo \"from .blueprint import $NEW_BLUEPRINT\" > app/blueprints/$NEW_BLUEPRINT/__init__.py\n",
        "printf \\\n",
        "\"from flask import Blueprint, render_template, request\\n\\\n",
        "\\n\\\n",
        "$NEW_BLUEPRINT = Blueprint('$NEW_BLUEPRINT', __name__)\\\n",
        "\\n\\\n",
        "@$NEW_BLUEPRINT.route('/home')\\n\\\n",
        "def route_name():\\n\\\n",
        "    return render_template('$NEW_BLUEPRINT.html') \\n\\\n",
        "\" > app/blueprints/$NEW_BLUEPRINT/blueprint.py\n",
        "cp ./sample_page.html app/templates/$NEW_BLUEPRINT.html\n",
        "```\n",
        "> Hints: change 'home' to make a new blueprint (line 1 & 14)"
      ]
    },
    {
      "cell_type": "markdown",
      "metadata": {
        "id": "9PH_skKCAIbb"
      },
      "source": [
        "### HTML Template\n",
        "\n",
        "* Add this code in **app/templates/base.html**\n",
        "\n",
        "```HTML\n",
        "<!doctype html>\n",
        "<html lang=\"en\">\n",
        "  <head>\n",
        "    <title>Title</title>\n",
        "    <!-- Required meta tags -->\n",
        "    <meta charset=\"utf-8\">\n",
        "    <meta name=\"viewport\" content=\"width=device-width, initial-scale=1, shrink-to-fit=no\">\n",
        "\n",
        "    <!-- Bootstrap CSS -->\n",
        "    <link rel=\"stylesheet\" href=\"https://stackpath.bootstrapcdn.com/bootstrap/4.3.1/css/bootstrap.min.css\" integrity=\"sha384-ggOyR0iXCbMQv3Xipma34MD+dH/1fQ784/j6cY/iJTQUOhcWr7x9JvoRxT2MZw1T\" crossorigin=\"anonymous\">\n",
        "    <!-- CSS -->\n",
        "    <link href=\"static/css/style.css\" rel=\"stylesheet\">\n",
        "</head>\n",
        "  <body class=\"text-center\">\n",
        "    {% block content%} {% endblock %} \n",
        "    \n",
        "    <script src=\"static/js/jquery-3.4.1.min.js\"></script>\n",
        "    <script src=\"static/js/index.js\"></script>\n",
        "    <!-- AJAX optional -->\n",
        "    <script type=\"text/javascript\">\n",
        "        $(\"#myButton\").click(function(){\n",
        "            $('#result').text('  Predicting...');\n",
        "            var $SCRIPT_ROOT = {{request.script_root|tojson|safe}};\n",
        "            var canvasObj = document.getElementById(\"canvas\");\n",
        "            var img = canvasObj.toDataURL('image/jpeg');\n",
        "            $.ajax({\n",
        "                type: \"POST\",\n",
        "                url: $SCRIPT_ROOT + \"/upload/\",\n",
        "                data: img,\n",
        "                success: function(data){\n",
        "                    $('#result').text('Predictions ' + data);\n",
        "                }\n",
        "            });\n",
        "        });\n",
        "    </script>\n",
        "  </body>\n",
        "</html>\n",
        "```\n",
        "\n",
        "> *Hints: most of this code can be automaticaly generated with VSCode Extensions called Bootstrap 4, Font awesome 4, Font Awesome 5 Free & Pro snippets by only writting \"b4-$\"*"
      ]
    },
    {
      "cell_type": "markdown",
      "metadata": {
        "id": "gtAANFtOAIbc"
      },
      "source": [
        "### Run the app\n",
        "\n",
        "* Change directory\n",
        "\n",
        "```bash\n",
        "cd app\n",
        "```\n",
        "\n",
        "* Run the app\n",
        "\n",
        "```bash\n",
        "python main.py\n",
        "```\n",
        "\n",
        "Congratulation, you have just created your Flask app. Here is the link of your Flask app: http://127.0.0.1:5000/home\n",
        "\n",
        "### Html for MNIST example\n",
        "\n",
        "* Replace the code of **app/templates/home.html** by this code \n",
        "\n",
        "```HTML\n",
        "{% extends \"base.html\" %} {% block content %}\n",
        "<div style=\"margin-top:50px\">\n",
        "  <img class=\"mb-4\" src=\"static/images/coderschool-logo.png\" alt=\"\" />\n",
        "  <h1 class=\"h3 mb-3 font-weight-normal\">Please draw a number</h1>\n",
        "\n",
        "  <canvas id=\"canvas\" width=\"400\" height=\"400\"></canvas>\n",
        "\n",
        "  <h1 class=\"h3 mb-3 font-weight-normal\" id=\"result\">Predictions:</h1>\n",
        "\n",
        "  <button id=\"myButton\" class=\"btn  btn-primary \" type=\"submit\">\n",
        "    Predict\n",
        "  </button>\n",
        "  <button id=\"clearButton\" class=\"btn btn-success\" type=\"submit\">\n",
        "    Clear\n",
        "  </button>\n",
        "\n",
        "  <p class=\"mt-5 mb-3 text-muted\">&copy; CoderSchool</p>\n",
        "</div>\n",
        "{% endblock %}\n",
        "\n",
        "```\n",
        "\n",
        "### Python for MNIST example\n",
        "\n",
        "* In **flask_doc** directory, run this code to generate the blueprint related to upload\n",
        "\n",
        "```bash\n",
        "export NEW_BLUEPRINT=upload_api\n",
        "mkdir app/blueprints/$NEW_BLUEPRINT\n",
        "touch app/blueprints/$NEW_BLUEPRINT/__init__.py app/blueprints/$NEW_BLUEPRINT/blueprint.py\n",
        "echo \"from .$NEW_BLUEPRINT import $NEW_BLUEPRINT\" >> app/blueprints/__init__.py\n",
        "echo \"from .blueprint import $NEW_BLUEPRINT\" > app/blueprints/$NEW_BLUEPRINT/__init__.py\n",
        "printf \\\n",
        "\"from flask import Blueprint, render_template, request\\n\\\n",
        "\\n\\\n",
        "$NEW_BLUEPRINT = Blueprint('$NEW_BLUEPRINT', __name__)\\\n",
        "\\n\\\n",
        "@$NEW_BLUEPRINT.route('/upload_api')\\n\\\n",
        "def route_name():\\n\\\n",
        "    return render_template('$NEW_BLUEPRINT.html') \\n\\\n",
        "\" > app/blueprints/$NEW_BLUEPRINT/blueprint.py\n",
        "cp ./sample_page.html app/templates/$NEW_BLUEPRINT.html\n",
        "```\n",
        "\n",
        "\n",
        "* Replace the code of **app/blueprints/upload_api/blueprint.py** by this code\n",
        "\n",
        "```python\n",
        "from flask import Blueprint, render_template, request\n",
        "import re\n",
        "import base64\n",
        "import numpy as np\n",
        "\n",
        "def parse_image(imgData):\n",
        "    img_str = re.search(b\"base64,(.*)\", imgData).group(1)\n",
        "    img_decode = base64.decodebytes(img_str)\n",
        "    with open('output.png', \"wb\") as f:\n",
        "        f.write(img_decode)\n",
        "    return img_decode\n",
        "\n",
        "# Load your model here\n",
        "model = None\n",
        "\n",
        "upload_api = Blueprint('upload_api', __name__)\n",
        "\n",
        "\n",
        "@upload_api.route('/upload/', methods=['POST'])\n",
        "def upload():\n",
        "    image = parse_image(request.get_data())\n",
        "    # Your prediction here\n",
        "    prediction = 0\n",
        "    return str(prediction)\n",
        "\n",
        "```\n",
        "\n",
        "* Register the upload API in **app/main.py**:\n",
        "\n",
        "```python\n",
        "from flask import Flask, render_template\n",
        "from blueprints import *\n",
        "\n",
        "app = Flask(__name__)\n",
        "app.register_blueprint(home)\n",
        "app.register_blueprint(upload_api)\n",
        "\n",
        "if __name__ == '__main__':\n",
        "    app.run(host='127.0.0.1', port=5000, debug=True)\n",
        "```"
      ]
    },
    {
      "cell_type": "code",
      "metadata": {
        "id": "32IcQ1Cpl3AS"
      },
      "source": [
        ""
      ],
      "execution_count": null,
      "outputs": []
    }
  ]
}